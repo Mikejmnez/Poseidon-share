{
 "cells": [
  {
   "cell_type": "code",
   "execution_count": null,
   "metadata": {},
   "outputs": [],
   "source": [
    "import xarray as xr\n",
    "import matplotlib.pyplot as plt\n",
    "from matplotlib import gridspec\n",
    "import oceanspy as ospy"
   ]
  },
  {
   "cell_type": "markdown",
   "metadata": {},
   "source": [
    "# HyCOM Dataset\n",
    "\n",
    "__Accesed via a Poseidon volume container.__ Location is already written in the `Intake Catalog`.\n",
    "\n",
    "Use Oceanography 2.3 \n"
   ]
  },
  {
   "cell_type": "code",
   "execution_count": null,
   "metadata": {},
   "outputs": [],
   "source": [
    "od = ospy.open_oceandataset.from_catalog('HYCOM')"
   ]
  },
  {
   "cell_type": "code",
   "execution_count": null,
   "metadata": {},
   "outputs": [],
   "source": [
    "od._ds"
   ]
  },
  {
   "cell_type": "code",
   "execution_count": null,
   "metadata": {},
   "outputs": [],
   "source": [
    "od._ds.nbytes/1e12"
   ]
  },
  {
   "cell_type": "code",
   "execution_count": null,
   "metadata": {},
   "outputs": [],
   "source": [
    "od._ds"
   ]
  },
  {
   "cell_type": "markdown",
   "metadata": {},
   "source": [
    "# Figures of surface time-averaged fields"
   ]
  },
  {
   "cell_type": "code",
   "execution_count": null,
   "metadata": {},
   "outputs": [],
   "source": [
    "dsSal = od._ds['S'].isel(Z=0).mean(dim='time').compute()\n",
    "dsTemp = od._ds['T'].isel(Z=0).mean(dim='time').compute()\n",
    "dsU = od._ds['U'].isel(Z=0).mean(dim='time').compute()\n",
    "dsV = od._ds['V'].isel(Z=0).mean(dim='time').compute()\n",
    "dsEta = od._ds['Eta'].mean(dim='time').compute()"
   ]
  },
  {
   "cell_type": "code",
   "execution_count": null,
   "metadata": {},
   "outputs": [],
   "source": [
    "fig, axes = plt.subplots(ncols=2, figsize=(24, 8))\n",
    "gs = gridspec.GridSpec(1, 3)\n",
    "gs.update(wspace=0.5)\n",
    "ax1 = plt.subplot(gs[0])\n",
    "dsSal.plot(cmap='PuOr_r', vmin=32,vmax=35)\n",
    "ax2 = plt.subplot(gs[1])\n",
    "dsTemp.plot(cmap='RdBu_r', vmin=10,vmax=25)\n",
    "ax3 = plt.subplot(gs[2])\n",
    "dsEta.plot(cmap='nipy_spectral', vmin=-0.3, vmax=0.5)\n",
    "plt.show()"
   ]
  },
  {
   "cell_type": "code",
   "execution_count": null,
   "metadata": {},
   "outputs": [],
   "source": [
    "fig, axes = plt.subplots(ncols=2, figsize=(14, 8))\n",
    "gs = gridspec.GridSpec(1, 2)\n",
    "gs.update(wspace=0.5)\n",
    "ax1 = plt.subplot(gs[0])\n",
    "dsU.plot(cmap='seismic', vmin=-1,vmax=1)\n",
    "ax2 = plt.subplot(gs[1])\n",
    "dsV.plot(cmap='seismic', vmin=-1,vmax=1)\n",
    "plt.show()"
   ]
  },
  {
   "cell_type": "code",
   "execution_count": null,
   "metadata": {},
   "outputs": [],
   "source": []
  }
 ],
 "metadata": {
  "kernelspec": {
   "display_name": "Oceanography",
   "language": "python",
   "name": "oceanography"
  },
  "language_info": {
   "codemirror_mode": {
    "name": "ipython",
    "version": 3
   },
   "file_extension": ".py",
   "mimetype": "text/x-python",
   "name": "python",
   "nbconvert_exporter": "python",
   "pygments_lexer": "ipython3",
   "version": "3.9.10"
  }
 },
 "nbformat": 4,
 "nbformat_minor": 4
}
