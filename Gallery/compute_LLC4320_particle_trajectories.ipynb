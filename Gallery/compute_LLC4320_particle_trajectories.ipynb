{
 "cells": [
  {
   "cell_type": "markdown",
   "metadata": {
    "tags": []
   },
   "source": [
    "# Compute particle trajectories for LLC4320 surface flow\n",
    "This notebook computes trajectories and saves them to disk. `plot_LLC4320_particle_trajectories.ipynb` reads the trajectories and plots them.\n",
    "\n",
    "Setup and import packages:"
   ]
  },
  {
   "cell_type": "code",
   "execution_count": 1,
   "metadata": {
    "execution": {
     "iopub.execute_input": "2023-01-20T16:25:35.949221Z",
     "iopub.status.busy": "2023-01-20T16:25:35.947210Z",
     "iopub.status.idle": "2023-01-20T16:26:14.720410Z",
     "shell.execute_reply": "2023-01-20T16:26:14.717571Z",
     "shell.execute_reply.started": "2023-01-20T16:25:35.949136Z"
    },
    "tags": []
   },
   "outputs": [],
   "source": [
    "import xarray as xr\n",
    "import numpy as np\n",
    "import oceanspy as ospy\n",
    "import OceInterp as oi"
   ]
  },
  {
   "cell_type": "markdown",
   "metadata": {},
   "source": [
    "First open the dataset into the OceData object"
   ]
  },
  {
   "cell_type": "code",
   "execution_count": 2,
   "metadata": {
    "execution": {
     "iopub.execute_input": "2023-01-20T16:26:14.738291Z",
     "iopub.status.busy": "2023-01-20T16:26:14.736328Z",
     "iopub.status.idle": "2023-01-20T16:39:01.142426Z",
     "shell.execute_reply": "2023-01-20T16:39:01.135438Z",
     "shell.execute_reply.started": "2023-01-20T16:26:14.738218Z"
    },
    "tags": []
   },
   "outputs": [
    {
     "name": "stdout",
     "output_type": "stream",
     "text": [
      "Opening LLC4320.\n",
      "10 day hourly data from the LLC4320 simulations computed using the MITGCM, a general, curvilinear ocean simulation on the cube-sphere.\n",
      "Loading grid into memory, it's a large dataset please be patient\n",
      "numpy arrays of grid loaded into memory\n",
      "cKD created\n"
     ]
    }
   ],
   "source": [
    "od = ospy.open_oceandataset.from_catalog('LLC4320')\n",
    "ds = od._ds\n",
    "oce = oi.OceData(ds)"
   ]
  },
  {
   "cell_type": "markdown",
   "metadata": {},
   "source": [
    "Initiate the particle locations randomly"
   ]
  },
  {
   "cell_type": "code",
   "execution_count": 3,
   "metadata": {
    "execution": {
     "iopub.execute_input": "2023-01-20T16:39:01.162004Z",
     "iopub.status.busy": "2023-01-20T16:39:01.160955Z",
     "iopub.status.idle": "2023-01-20T16:39:01.238217Z",
     "shell.execute_reply": "2023-01-20T16:39:01.225800Z",
     "shell.execute_reply.started": "2023-01-20T16:39:01.161920Z"
    },
    "tags": []
   },
   "outputs": [],
   "source": [
    "# N = 2**17        # Number of particles. Production value\n",
    "N = 2**10        # Number of particles. Test value\n",
    "xx,yy,zz = [np.random.normal(size = N) for i in range(3)]\n",
    "r = np.sqrt(xx**2+yy**2+zz**2)\n",
    "y = (np.pi/2 - np.arccos(zz/r))*180/np.pi\n",
    "x = np.arctan2(yy,xx)*180/np.pi\n",
    "x = x[y>-80]\n",
    "y = y[y>-80]\n",
    "z = np.ones_like(x)*(-10.)       # 10m depth"
   ]
  },
  {
   "cell_type": "markdown",
   "metadata": {},
   "source": [
    "We will be using just one level (the surface) of a single snapshot in time to make it faster.\n",
    "This will create an ensemble of particles moving in 2D at the surface."
   ]
  },
  {
   "cell_type": "code",
   "execution_count": 4,
   "metadata": {
    "execution": {
     "iopub.execute_input": "2023-01-20T16:39:01.242991Z",
     "iopub.status.busy": "2023-01-20T16:39:01.242306Z",
     "iopub.status.idle": "2023-01-20T16:39:12.874341Z",
     "shell.execute_reply": "2023-01-20T16:39:12.871464Z",
     "shell.execute_reply.started": "2023-01-20T16:39:01.242906Z"
    },
    "tags": []
   },
   "outputs": [],
   "source": [
    "oce['u'] = oce['U'][0,0]\n",
    "oce['v'] = oce['V'][0,0]\n",
    "p = oi.particle(x = x,y = y,z = z,data = oce,\n",
    "                 uname = 'u',vname = 'v',wname = None,\n",
    "                )"
   ]
  },
  {
   "cell_type": "markdown",
   "metadata": {},
   "source": [
    "The package knows that LLC4320 is a large dataset, so it doesn't prefetch data to avoid overwhelming itself. However, we need prefetching for performance and in this case the data just fits in core memory. Therefore set `p.too_large = False` to prefetch the data."
   ]
  },
  {
   "cell_type": "code",
   "execution_count": 5,
   "metadata": {
    "execution": {
     "iopub.execute_input": "2023-01-20T16:39:12.881676Z",
     "iopub.status.busy": "2023-01-20T16:39:12.881010Z",
     "iopub.status.idle": "2023-01-20T16:39:12.893335Z",
     "shell.execute_reply": "2023-01-20T16:39:12.890675Z",
     "shell.execute_reply.started": "2023-01-20T16:39:12.881608Z"
    },
    "tags": []
   },
   "outputs": [],
   "source": [
    "p.too_large = False"
   ]
  },
  {
   "cell_type": "markdown",
   "metadata": {},
   "source": [
    "We are going to run it with 3 hour timestep for 30 days"
   ]
  },
  {
   "cell_type": "code",
   "execution_count": 6,
   "metadata": {
    "execution": {
     "iopub.execute_input": "2023-01-20T16:39:12.896016Z",
     "iopub.status.busy": "2023-01-20T16:39:12.895316Z",
     "iopub.status.idle": "2023-01-20T16:39:45.025761Z",
     "shell.execute_reply": "2023-01-20T16:39:45.018525Z",
     "shell.execute_reply.started": "2023-01-20T16:39:12.895950Z"
    },
    "tags": []
   },
   "outputs": [],
   "source": [
    "p.t  = np.ones(p.N)*10.\n",
    "step = 10800     # Step in seconds\n",
    "Nsteps = 240          # Number of steps\n",
    "dest = [n*step for n in range(1,Nsteps)]\n",
    "p.uarray = np.array(oce['u'])\n",
    "p.varray = np.array(oce['v'])"
   ]
  },
  {
   "cell_type": "markdown",
   "metadata": {},
   "source": [
    "Step the Lagrangian particles. This takes a long time (e.g., several hours on SciServer)."
   ]
  },
  {
   "cell_type": "code",
   "execution_count": 7,
   "metadata": {
    "execution": {
     "iopub.execute_input": "2023-01-20T16:39:45.029525Z",
     "iopub.status.busy": "2023-01-20T16:39:45.028412Z",
     "iopub.status.idle": "2023-01-20T16:41:48.972869Z",
     "shell.execute_reply": "2023-01-20T16:41:48.969824Z",
     "shell.execute_reply.started": "2023-01-20T16:39:45.029371Z"
    },
    "tags": []
   },
   "outputs": [
    {
     "name": "stdout",
     "output_type": "stream",
     "text": [
      "1008 left "
     ]
    },
    {
     "name": "stderr",
     "output_type": "stream",
     "text": [
      "/home/idies/workspace/Storage/Thomas.Haine/persistent/Poseidon testing/From_Wenrui/OceInterp/OceInterp/get_masks.py:108: UserWarning: no maskC in the dataset, assuming nothing is masked.\n",
      "  warnings.warn('no maskC in the dataset, assuming nothing is masked.')\n",
      "/home/idies/workspace/Storage/Thomas.Haine/persistent/Poseidon testing/From_Wenrui/OceInterp/OceInterp/get_masks.py:108: UserWarning: no maskC in the dataset, assuming nothing is masked.\n",
      "  warnings.warn('no maskC in the dataset, assuming nothing is masked.')\n"
     ]
    },
    {
     "name": "stdout",
     "output_type": "stream",
     "text": [
      "\n",
      "1008 left "
     ]
    },
    {
     "name": "stderr",
     "output_type": "stream",
     "text": [
      "/home/idies/workspace/Storage/Thomas.Haine/persistent/Poseidon testing/From_Wenrui/OceInterp/OceInterp/get_masks.py:108: UserWarning: no maskC in the dataset, assuming nothing is masked.\n",
      "  warnings.warn('no maskC in the dataset, assuming nothing is masked.')\n"
     ]
    },
    {
     "name": "stdout",
     "output_type": "stream",
     "text": [
      "619 left 395 left 192 left 91 left 54 left 36 left 19 left 6 left 4 left 4 left 3 left 3 left 3 left 3 left 1 left 1 left 1 left 1 left \n",
      "1008 left 615 left 376 left 186 left 92 left 50 left 31 left 20 left 10 left 5 left 4 left 3 left 3 left 2 left 1 left \n",
      "1008 left 601 left 376 left 183 left 91 left 56 left 32 left 19 left 8 left 5 left 2 left 2 left 2 left 2 left 2 left \n",
      "1008 left 610 left 368 left 186 left 89 left 49 left 29 left 18 left 11 left 6 left 2 left 2 left 2 left 2 left 1 left \n",
      "1008 left 595 left 359 left 192 left 92 left 53 left 29 left 20 left 8 left 6 left 3 left 2 left 2 left 2 left 2 left 1 left 1 left \n",
      "1008 left "
     ]
    },
    {
     "name": "stderr",
     "output_type": "stream",
     "text": [
      "/home/idies/workspace/Storage/Thomas.Haine/persistent/Poseidon testing/From_Wenrui/OceInterp/OceInterp/get_masks.py:108: UserWarning: no maskC in the dataset, assuming nothing is masked.\n",
      "  warnings.warn('no maskC in the dataset, assuming nothing is masked.')\n"
     ]
    },
    {
     "name": "stdout",
     "output_type": "stream",
     "text": [
      "599 left 351 left 170 left 87 left 50 left 28 left 13 left 8 left 4 left 3 left 2 left 2 left 2 left 1 left 1 left 1 left \n",
      "1008 left 584 left 373 left 185 left 93 left 49 left 31 left 19 left 12 left 5 left 4 left 3 left 3 left 2 left 2 left \n",
      "1008 left 575 left 337 left 169 left 91 left 47 left 32 left 23 left 11 left 6 left 4 left 3 left 2 left 2 left 2 left 2 left 2 left \n",
      "1008 left 572 left 373 left 172 left 87 left 52 left 35 left 21 left 12 left 8 left 3 left 2 left 2 left 1 left 1 left 1 left 1 left 1 left \n",
      "1008 left 569 left 368 left 182 left 90 left 44 left 34 left 19 left 12 left 6 left 3 left 2 left 2 left 2 left 2 left 2 left 2 left 1 left \n",
      "1008 left 557 left 351 left 184 left 93 left 52 left 31 left 17 left 9 left 5 left 4 left 2 left 2 left 2 left 2 left 2 left 1 left 1 left \n",
      "1008 left 570 left 350 left 172 left 98 left 50 left 29 left 17 left 12 left 6 left 3 left 2 left 2 left 2 left 2 left 1 left 1 left 1 left 1 left 1 left 1 left 1 left \n",
      "1008 left 554 left 335 left 171 left 95 left 45 left 31 left 18 left 10 left 6 left 4 left 2 left 2 left 2 left 1 left 1 left 1 left 1 left 1 left 1 left 1 left \n",
      "1008 left 540 left 349 left 173 left 83 left 53 left 32 left 17 left 9 left 8 left 4 left 2 left 1 left 1 left 1 left 1 left 1 left 1 left \n",
      "1008 left 559 left 334 left 169 left 91 left 45 left 25 left 13 left 9 left 6 left 4 left 3 left 3 left 1 left \n",
      "1008 left 548 left 318 left 168 left 83 left 48 left 32 left 19 left 10 left 6 left 3 left 2 left \n",
      "1008 left 546 left 326 left 164 left 94 left 49 left 29 left 17 left 11 left 6 left 4 left 3 left 1 left \n",
      "1008 left 535 left 337 left 169 left 91 left 49 left 28 left 18 left 12 left 7 left 6 left 2 left 1 left \n",
      "1008 left 528 left 323 left 159 left 86 left 56 left 25 left 14 left 10 left 7 left 5 left 2 left 1 left 1 left 1 left 1 left 1 left 1 left 1 left \n",
      "1008 left 537 left 326 left 157 left 92 left 48 left 28 left 16 left 9 left 6 left 5 left 2 left 1 left 1 left 1 left 1 left 1 left 1 left 1 left 1 left 1 left 1 left 1 left 1 left \n",
      "1008 left 529 left 336 left 162 left 89 left 49 left 28 left 15 left 10 left 9 left 5 left 3 left 2 left 1 left 1 left 1 left 1 left 1 left \n",
      "1008 left 523 left 316 left 168 left 83 left 46 left 25 left 13 left 10 left 7 left 4 left \n",
      "1008 left 527 left 323 left 155 left 84 left 46 left 29 left 16 left 9 left 8 left 4 left 3 left 2 left \n",
      "1008 left 529 left 321 left 164 left 78 left 46 left 24 left 13 left 9 left 8 left 3 left 2 left 2 left 1 left \n",
      "1008 left 521 left 320 left 162 left 78 left 42 left 23 left 15 left 12 left 8 left 5 left 3 left 3 left 3 left 2 left 2 left 1 left \n",
      "1008 left 527 left 317 left 159 left 81 left 43 left 22 left 14 left 9 left 7 left 5 left 3 left 3 left 3 left 2 left 1 left \n",
      "1008 left 519 left 323 left 157 left 82 left 41 left 23 left 13 left 9 left 6 left 5 left 4 left 3 left 3 left 2 left 2 left 1 left 1 left \n",
      "1008 left 513 left 315 left 166 left 80 left 35 left 21 left 15 left 11 left 6 left 5 left 4 left 2 left 2 left 1 left 1 left 1 left \n",
      "1008 left 513 left 310 left 162 left 76 left 35 left 19 left 14 left 10 left 7 left 4 left 3 left 3 left 2 left 2 left 1 left 1 left \n",
      "1008 left 501 left 325 left 176 left 87 left 43 left 22 left 13 left 9 left 6 left 5 left 4 left 2 left 2 left 2 left 2 left \n",
      "1008 left 526 left 317 left 160 left 81 left 44 left 27 left 16 left 9 left 6 left 3 left 2 left 2 left 2 left 2 left 1 left 1 left 1 left \n",
      "1008 left 512 left 331 left 179 left 88 left 42 left 23 left 16 left 11 left 5 left 2 left 2 left 2 left 1 left 1 left 1 left \n",
      "1008 left 518 left 321 left 163 left 82 left 47 left 25 left 14 left 10 left 6 left 4 left 2 left 1 left 1 left \n",
      "1008 left 507 left 331 left 154 left 84 left 47 left 31 left 18 left 11 left 6 left 5 left 4 left 2 left 1 left \n",
      "1008 left 499 left 297 left 168 left 94 left 53 left 26 left 17 left 10 left 6 left 5 left 5 left 3 left 3 left 1 left \n",
      "1008 left 507 left 312 left 156 left 91 left 50 left 29 left 19 left 11 left 5 left 5 left 4 left 3 left 1 left 1 left \n",
      "1008 left 508 left 301 left 157 left 89 left 44 left 25 left 16 left 11 left 7 left 5 left 4 left 4 left 2 left \n",
      "1008 left 499 left 309 left 165 left 87 left 46 left 30 left 19 left 16 left 5 left 5 left 5 left 4 left 3 left \n",
      "1008 left 496 left 300 left 160 left 86 left 47 left 30 left 16 left 12 left 10 left 7 left 5 left 3 left 3 left 2 left \n",
      "1008 left 501 left 315 left 169 left 87 left 49 left 29 left 20 left 16 left 11 left 6 left 4 left 3 left 2 left 2 left \n",
      "1008 left 488 left 294 left 169 left 95 left 52 left 32 left 21 left 13 left 12 left 6 left 3 left 3 left 3 left 2 left 1 left 1 left 1 left \n",
      "1008 left 485 left 292 left 164 left 95 left 53 left 32 left 23 left 11 left 9 left 4 left 4 left 3 left 2 left 1 left \n",
      "1008 left 479 left 297 left 179 left 95 left 56 left 36 left 22 left 13 left 6 left 4 left 3 left 2 left 2 left 1 left \n",
      "1008 left 481 left 288 left 157 left 89 left 53 left 34 left 22 left 11 left 9 left 5 left 4 left 2 left 1 left 1 left \n",
      "1008 left 475 left 308 left 157 left 94 left 51 left 34 left 23 left 16 left 8 left 5 left 3 left 2 left \n",
      "1008 left 481 left 301 left 160 left 86 left 53 left 30 left 24 left 13 left 10 left 5 left 2 left \n",
      "1008 left 462 left 308 left 163 left 89 left 49 left 28 left 18 left 11 left 8 left 3 left 2 left \n",
      "1008 left 478 left 300 left 158 left 98 left 56 left 33 left 19 left 9 left 8 left 7 left 3 left \n",
      "1008 left 473 left 305 left 160 left 91 left 46 left 30 left 17 left 12 left 6 left 5 left 1 left 1 left \n",
      "1008 left 474 left 300 left 147 left 94 left 56 left 33 left 16 left 7 left 5 left 4 left 2 left 1 left \n",
      "1008 left 461 left 292 left 148 left 89 left 47 left 30 left 15 left 9 left 7 left 2 left 1 left \n",
      "1008 left 472 left 299 left 163 left 86 left 49 left 25 left 15 left 9 left 5 left 4 left 3 left 3 left 2 left \n",
      "1008 left 477 left 293 left 153 left 75 left 47 left 26 left 14 left 9 left 5 left 4 left 3 left 2 left 1 left 1 left \n",
      "1008 left 462 left 301 left 164 left 86 left 44 left 24 left 12 left 8 left 4 left 4 left 2 left 1 left 1 left \n",
      "1008 left 462 left 293 left 151 left 78 left 40 left 26 left 13 left 8 left 5 left 2 left 2 left 2 left 1 left \n",
      "1008 left 478 left 313 left 154 left 80 left 43 left 24 left 16 left 9 left 5 left 4 left 2 left 2 left 1 left 1 left \n",
      "1008 left 454 left 290 left 153 left 78 left 42 left 27 left 17 left 9 left 7 left 3 left 2 left 1 left \n",
      "1008 left 460 left 292 left 149 left 80 left 44 left 25 left 16 left 11 left 5 left 4 left 2 left 2 left 1 left 1 left \n",
      "1008 left 465 left 286 left 150 left 72 left 41 left 22 left 14 left 7 left 4 left 4 left 2 left \n",
      "1008 left 469 left 292 left 157 left 73 left 43 left 21 left 13 left 7 left 6 left 3 left 2 left 2 left \n",
      "1008 left 449 left 291 left 152 left 88 left 49 left 20 left 12 left 6 left 5 left 3 left 3 left 1 left 1 left 1 left 1 left 1 left 1 left \n",
      "1008 left 459 left 278 left 153 left 77 left 49 left 30 left 13 left 5 left 5 left 4 left 3 left 2 left 1 left 1 left 1 left 1 left 1 left 1 left 1 left 1 left \n",
      "1008 left 462 left 296 left 143 left 81 left 44 left 27 left 11 left 8 left 5 left 4 left 3 left 1 left 1 left 1 left 1 left 1 left 1 left 1 left 1 left 1 left 1 left 1 left \n",
      "1008 left 458 left 283 left 161 left 80 left 44 left 24 left 13 left 7 left 4 left 4 left 4 left 2 left 1 left 1 left 1 left 1 left 1 left 1 left 1 left 1 left 1 left 1 left 1 left 1 left 1 left \n",
      "1008 left 457 left 284 left 153 left 76 left 37 left 25 left 13 left 8 left 7 left 6 left 3 left 1 left 1 left 1 left 1 left 1 left \n",
      "1008 left 441 left 276 left 150 left 72 left 36 left 22 left 12 left 10 left 6 left 5 left 4 left 1 left 1 left 1 left 1 left \n",
      "1008 left 453 left 286 left 144 left 84 left 48 left 24 left 13 left 7 left 6 left 4 left 2 left 1 left 1 left 1 left \n",
      "1008 left 442 left 272 left 149 left 71 left 43 left 26 left 14 left 8 left 5 left 4 left 2 left 1 left 1 left \n",
      "1008 left 446 left 276 left 145 left 72 left 41 left 28 left 11 left 6 left 4 left 2 left 1 left \n",
      "1008 left 458 left 287 left 142 left 77 left 37 left 22 left 12 left 7 left 5 left 2 left 1 left \n",
      "1008 left 445 left 268 left 148 left 81 left 43 left 22 left 14 left 9 left 6 left 4 left 2 left \n",
      "1008 left 440 left 265 left 150 left 75 left 39 left 28 left 17 left 8 left 4 left 2 left \n",
      "1008 left 451 left 268 left 147 left 88 left 53 left 28 left 21 left 9 left 6 left 2 left 2 left 1 left \n",
      "1008 left 436 left 269 left 138 left 80 left 45 left 26 left 18 left 8 left 4 left 2 left 2 left 1 left 1 left \n",
      "1008 left 444 left 263 left 147 left 91 left 49 left 31 left 20 left 9 left 5 left 3 left 1 left 1 left 1 left 1 left \n",
      "1008 left 439 left 264 left 136 left 74 left 45 left 30 left 19 left 9 left 4 left 2 left 1 left 1 left \n",
      "1008 left 436 left 257 left 148 left 77 left 43 left 29 left 18 left 8 left 6 left 3 left 2 left 2 left \n",
      "1008 left 432 left 267 left 145 left 75 left 40 left 24 left 17 left 12 left 8 left 2 left 1 left \n",
      "1008 left 445 left 263 left 140 left 76 left 43 left 24 left 10 left 8 left 5 left 3 left 1 left \n",
      "1008 left 436 left 256 left 134 left 72 left 43 left 29 left 16 left 8 left 5 left 3 left \n",
      "1008 left 434 left 261 left 130 left 78 left 46 left 28 left 13 left 6 left 3 left 2 left 1 left \n",
      "1008 left 427 left 256 left 144 left 69 left 40 left 22 left 13 left 8 left 2 left 1 left 1 left \n",
      "1008 left 433 left 264 left 136 left 71 left 41 left 23 left 14 left 9 left 3 left 1 left 1 left \n",
      "1008 left 428 left 252 left 135 left 71 left 41 left 24 left 12 left 6 left 2 left 2 left 1 left 1 left \n",
      "1008 left 445 left 267 left 140 left 66 left 40 left 27 left 14 left 6 left 2 left 2 left 1 left 1 left \n",
      "1008 left 407 left 259 left 131 left 60 left 37 left 24 left 20 left 9 left 5 left 1 left 1 left \n",
      "1008 left 439 left 258 left 125 left 65 left 37 left 25 left 13 left 4 left 3 left 2 left 1 left \n",
      "1008 left 425 left 252 left 129 left 59 left 35 left 22 left 13 left 7 left 3 left 2 left 1 left \n",
      "1008 left 419 left 255 left 128 left 68 left 39 left 27 left 21 left 6 left 3 left 3 left 1 left 1 left \n",
      "1008 left 424 left 259 left 132 left 69 left 39 left 29 left 17 left 8 left 5 left 1 left 1 left 1 left \n",
      "1008 left 408 left 254 left 137 left 70 left 41 left 28 left 15 left 10 left 4 left 2 left 2 left 1 left 1 left \n",
      "1008 left 426 left 275 left 145 left 69 left 38 left 28 left 20 left 12 left 4 left 2 left 2 left 2 left 1 left 1 left \n",
      "1008 left 427 left 252 left 139 left 68 left 43 left 26 left 14 left 5 left 5 left 3 left 3 left 2 left 1 left \n",
      "1008 left 421 left 279 left 144 left 69 left 43 left 24 left 17 left 9 left 5 left 3 left 2 left 1 left 1 left \n",
      "1008 left 429 left 256 left 134 left 73 left 46 left 26 left 14 left 10 left 7 left 5 left 4 left 2 left \n",
      "1008 left 429 left 274 left 149 left 71 left 42 left 26 left 19 left 12 left 5 left 4 left 4 left 1 left 1 left 1 left 1 left \n",
      "1008 left 421 left 246 left 138 left 72 left 40 left 25 left 17 left 9 left 8 left 5 left 4 left 4 left 2 left \n",
      "1008 left 413 left 255 left 141 left 64 left 39 left 23 left 16 left 11 left 7 left 4 left 3 left 2 left 1 left 1 left 1 left 1 left 1 left 1 left 1 left 1 left 1 left 1 left 1 left \n",
      "1008 left 422 left 257 left 131 left 70 left 42 left 28 left 17 left 12 left 5 left 5 left 2 left 1 left 1 left 1 left \n",
      "1008 left 411 left 266 left 137 left 68 left 43 left 24 left 17 left 11 left 7 left 4 left 2 left 1 left 1 left \n",
      "1008 left 417 left 254 left 131 left 72 left 37 left 25 left 16 left 8 left 5 left 2 left 1 left 1 left 1 left \n",
      "1008 left 417 left 253 left 135 left 76 left 39 left 24 left 14 left 8 left 5 left 4 left 2 left 2 left 2 left 2 left \n",
      "1008 left 416 left 279 left 133 left 73 left 43 left 28 left 15 left 5 left 4 left 3 left 2 left 2 left 2 left 2 left 1 left 1 left 1 left \n",
      "1008 left 401 left 235 left 123 left 64 left 33 left 20 left 14 left 7 left 4 left 2 left 2 left 2 left 2 left 2 left 1 left 1 left 1 left 1 left \n",
      "1008 left 422 left 264 left 135 left 70 left 41 left 21 left 12 left 7 left 2 left 2 left 2 left 2 left 2 left 2 left 1 left 1 left 1 left \n",
      "1008 left 406 left 239 left 127 left 61 left 36 left 20 left 11 left 5 left 4 left 2 left 2 left 2 left 2 left 1 left 1 left \n",
      "1008 left 410 left 252 left 131 left 65 left 35 left 21 left 12 left 8 left 5 left 5 left 2 left 2 left 1 left \n",
      "1008 left 406 left 243 left 139 left 72 left 36 left 18 left 11 left 7 left 6 left 6 left 4 left 4 left 1 left \n",
      "1008 left 413 left 234 left 118 left 63 left 41 left 19 left 12 left 11 left 7 left 7 left 5 left 3 left 2 left 1 left \n",
      "1008 left 408 left 246 left 136 left 69 left 39 left 21 left 16 left 10 left 7 left 5 left 4 left 3 left 1 left \n",
      "1008 left 398 left 253 left 131 left 70 left 42 left 24 left 14 left 11 left 6 left 6 left 4 left 2 left 2 left 2 left \n",
      "1008 left 405 left 243 left 128 left 71 left 35 left 22 left 15 left 8 left 6 left 4 left 3 left 3 left 3 left 1 left 1 left \n",
      "1008 left 399 left 241 left 138 left 63 left 36 left 21 left 13 left 9 left 5 left 3 left 3 left 3 left 3 left 2 left 2 left \n",
      "1008 left 403 left 251 left 123 left 69 left 38 left 24 left 15 left 9 left 7 left 4 left 3 left 3 left 2 left 1 left 1 left 1 left 1 left 1 left 1 left \n",
      "1008 left 411 left 244 left 130 left 68 left 39 left 24 left 14 left 9 left 6 left 4 left 3 left 2 left 2 left 2 left 2 left 1 left 1 left 1 left 1 left \n",
      "1008 left 402 left 254 left 128 left 69 left 39 left 21 left 12 left 9 left 8 left 4 left 3 left 3 left 3 left 2 left 2 left 2 left 2 left 1 left 1 left 1 left 1 left \n",
      "1008 left 401 left 240 left 123 left 70 left 38 left 19 left 10 left 8 left 7 left 5 left 3 left 3 left 2 left 2 left 2 left 2 left 1 left 1 left 1 left 1 left \n",
      "1008 left 402 left 255 left 124 left 65 left 35 left 20 left 10 left 7 left 7 left 5 left 3 left 2 left 2 left 2 left 1 left 1 left 1 left 1 left \n",
      "1008 left 403 left 253 left 125 left 66 left 40 left 21 left 12 left 9 left 7 left 5 left 3 left 3 left 1 left 1 left 1 left 1 left \n",
      "1008 left 386 left 216 left 129 left 73 left 41 left 22 left 12 left 8 left 7 left 4 left 3 left 2 left 1 left 1 left 1 left \n",
      "1008 left 400 left 249 left 130 left 72 left 47 left 27 left 14 left 9 left 6 left 5 left 2 left 1 left 1 left 1 left 1 left \n",
      "1008 left 404 left 250 left 127 left 76 left 44 left 23 left 17 left 11 left 5 left 4 left 1 left 1 left \n",
      "1008 left 398 left 248 left 126 left 75 left 37 left 27 left 14 left 10 left 6 left 4 left 1 left 1 left 1 left 1 left \n",
      "1008 left 382 left 235 left 123 left 70 left 46 left 32 left 17 left 10 left 6 left 6 left 4 left 2 left 1 left 1 left 1 left 1 left \n",
      "1008 left 404 left 240 left 136 left 75 left 43 left 27 left 18 left 12 left 7 left 6 left 3 left 2 left 1 left 1 left 1 left 1 left 1 left 1 left \n",
      "1008 left 390 left 240 left 126 left 75 left 45 left 23 left 16 left 11 left 7 left 5 left 3 left 2 left 1 left 1 left 1 left 1 left 1 left 1 left \n",
      "1008 left 393 left 238 left 123 left 70 left 43 left 29 left 18 left 9 left 6 left 5 left 4 left 2 left 2 left 1 left 1 left 1 left 1 left 1 left 1 left 1 left \n",
      "1008 left 390 left 238 left 129 left 76 left 50 left 30 left 23 left 14 left 9 left 3 left 3 left 3 left 2 left 2 left 1 left 1 left 1 left 1 left 1 left 1 left 1 left 1 left \n",
      "1008 left 387 left 236 left 130 left 70 left 45 left 32 left 19 left 11 left 7 left 5 left 3 left 2 left 2 left 2 left 2 left 1 left 1 left 1 left 1 left 1 left 1 left 1 left 1 left \n",
      "1008 left 390 left 243 left 132 left 78 left 47 left 36 left 20 left 8 left 5 left 5 left 3 left 2 left 2 left 2 left 2 left 1 left 1 left 1 left 1 left 1 left 1 left \n",
      "1008 left 388 left 237 left 129 left 80 left 45 left 27 left 19 left 11 left 6 left 3 left 2 left 2 left 2 left 2 left 2 left 2 left 1 left 1 left 1 left 1 left 1 left 1 left 1 left \n",
      "1008 left 399 left 221 left 119 left 66 left 36 left 25 left 19 left 12 left 8 left 4 left 2 left 2 left 2 left 2 left 1 left 1 left 1 left 1 left 1 left 1 left 1 left 1 left 1 left \n",
      "1008 left 378 left 238 left 130 left 70 left 40 left 28 left 16 left 14 left 9 left 4 left 2 left 2 left 2 left 2 left 1 left 1 left 1 left 1 left 1 left 1 left 1 left 1 left \n",
      "1008 left 367 left 238 left 126 left 70 left 46 left 23 left 14 left 12 left 9 left 6 left 2 left 2 left 1 left 1 left 1 left 1 left 1 left 1 left 1 left \n",
      "1008 left 387 left 237 left 114 left 63 left 41 left 25 left 16 left 11 left 7 left 2 left 1 left 1 left 1 left 1 left 1 left 1 left \n",
      "1008 left 365 left 228 left 124 left 66 left 42 left 21 left 14 left 11 left 6 left 3 left 2 left \n",
      "1008 left 375 left 229 left 118 left 64 left 45 left 23 left 14 left 11 left 4 left 2 left 2 left 2 left \n",
      "1008 left 380 left 229 left 117 left 70 left 44 left 25 left 13 left 10 left 5 left 3 left 2 left 2 left 1 left \n",
      "1008 left 369 left 221 left 119 left 66 left 35 left 23 left 15 left 6 left 4 left 4 left 2 left 2 left 1 left 1 left 1 left \n",
      "1008 left 371 left 231 left 118 left 67 left 37 left 18 left 12 left 7 left 5 left 4 left 2 left 1 left 1 left 1 left 1 left 1 left 1 left \n",
      "1008 left 373 left 230 left 109 left 62 left 38 left 19 left 13 left 8 left 7 left 3 left 2 left 2 left 1 left 1 left 1 left 1 left \n",
      "1008 left 380 left 232 left 126 left 71 left 32 left 15 left 12 left 9 left 7 left 5 left 3 left 2 left 1 left 1 left 1 left 1 left 1 left \n",
      "1008 left 369 left 232 left 117 left 57 left 30 left 17 left 14 left 9 left 6 left 3 left 2 left 2 left 1 left 1 left 1 left 1 left \n",
      "1008 left 375 left 213 left 112 left 65 left 36 left 17 left 15 left 12 left 9 left 3 left 2 left 1 left 1 left 1 left 1 left \n",
      "1008 left 387 left 233 left 112 left 59 left 30 left 22 left 14 left 11 left 8 left 5 left 2 left 1 left 1 left 1 left 1 left 1 left \n",
      "1008 left 359 left 229 left 117 left 58 left 35 left 19 left 15 left 10 left 7 left 3 left 1 left 1 left 1 left 1 left 1 left 1 left \n",
      "1008 left 368 left 225 left 116 left 60 left 34 left 23 left 15 left 12 left 6 left 3 left 2 left 2 left 1 left 1 left \n",
      "1008 left 367 left 219 left 112 left 59 left 34 left 21 left 15 left 10 left 7 left 4 left 3 left 2 left 1 left 1 left \n",
      "1008 left 368 left 223 left 118 left 58 left 32 left 25 left 14 left 12 left 8 left 2 left 2 left 2 left 1 left 1 left 1 left \n",
      "1008 left 356 left 219 left 105 left 61 left 34 left 23 left 16 left 9 left 6 left 3 left 3 left 3 left 1 left 1 left \n",
      "1008 left 378 left 223 left 119 left 55 left 36 left 22 left 16 left 11 left 6 left 4 left 3 left 3 left 2 left 1 left \n",
      "1008 left 373 left 219 left 107 left 54 left 34 left 25 left 15 left 13 left 8 left 6 left 4 left 4 left 1 left 1 left 1 left 1 left \n",
      "1008 left 365 left 230 left 117 left 59 left 31 left 28 left 15 left 12 left 8 left 6 left 4 left 2 left 2 left 1 left 1 left 1 left \n",
      "1008 left 359 left 225 left 120 left 56 left 36 left 27 left 16 left 8 left 6 left 5 left 4 left 3 left 2 left 1 left 1 left 1 left 1 left \n",
      "1008 left 367 left 224 left 117 left 54 left 36 left 22 left 14 left 11 left 6 left 3 left 3 left 2 left 1 left 1 left 1 left 1 left \n",
      "1008 left 373 left 226 left 123 left 61 left 38 left 28 left 17 left 12 left 5 left 4 left 3 left 2 left 1 left \n",
      "1008 left 352 left 226 left 124 left 62 left 36 left 25 left 13 left 8 left 6 left 4 left 2 left 1 left 1 left \n",
      "1008 left 377 left 227 left 122 left 66 left 40 left 23 left 14 left 8 left 5 left 3 left 1 left \n",
      "1008 left 365 left 221 left 114 left 58 left 43 left 24 left 12 left 8 left 5 left 2 left 1 left \n",
      "1008 left 356 left 227 left 123 left 60 left 38 left 25 left 15 left 8 left 3 left 2 left \n",
      "1008 left 370 left 218 left 119 left 67 left 37 left 23 left 14 left 6 left 4 left 2 left \n",
      "1008 left 357 left 215 left 114 left 65 left 32 left 21 left 11 left 10 left 6 left 1 left 1 left \n",
      "1008 left 373 left 214 left 117 left 69 left 37 left 24 left 11 left 8 left 3 left 2 left 1 left \n",
      "1008 left 364 left 223 left 120 left 62 left 32 left 19 left 12 left 8 left 5 left 2 left 2 left \n",
      "1008 left 357 left 215 left 114 left 65 left 32 left 22 left 13 left 10 left 7 left 3 left 2 left 1 left 1 left \n",
      "1008 left 357 left 214 left 118 left 62 left 35 left 23 left 13 left 9 left 5 left 1 left 1 left \n",
      "1008 left 342 left 221 left 114 left 65 left 37 left 25 left 16 left 11 left 6 left 4 left 1 left \n",
      "1008 left 361 left 216 left 113 left 56 left 30 left 23 left 14 left 9 left 7 left 4 left \n",
      "1008 left 344 left 225 left 123 left 63 left 37 left 21 left 13 left 7 left 4 left 3 left 1 left \n",
      "1008 left 362 left 220 left 115 left 64 left 35 left 23 left 14 left 8 left 7 left 1 left 1 left \n",
      "1008 left 350 left 226 left 111 left 64 left 37 left 19 left 14 left 10 left 7 left 3 left \n",
      "1008 left 348 left 224 left 114 left 57 left 32 left 24 left 15 left 9 left 6 left 4 left 2 left \n",
      "1008 left 355 left 222 left 117 left 56 left 30 left 17 left 14 left 8 left 5 left 1 left \n",
      "1008 left 339 left 216 left 113 left 49 left 34 left 18 left 12 left 9 left 6 left 1 left 1 left \n",
      "1008 left 351 left 217 left 111 left 60 left 34 left 18 left 11 left 7 left 4 left \n",
      "1008 left 356 left 211 left 115 left 53 left 30 left 21 left 10 left 7 left 5 left 1 left \n",
      "1008 left 345 left 209 left 113 left 57 left 31 left 19 left 13 left 9 left 5 left 1 left \n",
      "1008 left 355 left 215 left 117 left 67 left 33 left 21 left 14 left 6 left 3 left 1 left \n",
      "1008 left 348 left 218 left 120 left 61 left 40 left 29 left 18 left 7 left 3 left 2 left 1 left \n",
      "1008 left 351 left 218 left 107 left 64 left 36 left 26 left 16 left 9 left 4 left 2 left 1 left 1 left \n",
      "1008 left 344 left 208 left 118 left 64 left 39 left 24 left 18 left 8 left 3 left 2 left 2 left 1 left \n",
      "1008 left 352 left 218 left 120 left 64 left 40 left 26 left 20 left 8 left 5 left 3 left 2 left 2 left 1 left \n",
      "1008 left 344 left 217 left 115 left 62 left 36 left 25 left 17 left 10 left 7 left 4 left 2 left 2 left 2 left \n",
      "1008 left 348 left 217 left 115 left 61 left 41 left 26 left 16 left 12 left 9 left 3 left 2 left 2 left 2 left 1 left \n",
      "1008 left 347 left 209 left 121 left 66 left 37 left 23 left 16 left 13 left 8 left 4 left 2 left 1 left 1 left 1 left \n",
      "1008 left 339 left 203 left 112 left 67 left 41 left 24 left 15 left 10 left 7 left 3 left 2 left 1 left 1 left \n",
      "1008 left 354 left 215 left 118 left 63 left 35 left 24 left 12 left 8 left 4 left 2 left 1 left 1 left 1 left \n",
      "1008 left 351 left 212 left 118 left 68 left 35 left 19 left 12 left 7 left 4 left 2 left 1 left \n",
      "1008 left 336 left 206 left 118 left 61 left 34 left 17 left 11 left 8 left 5 left 4 left 3 left 1 left 1 left \n",
      "1008 left 344 left 212 left 101 left 51 left 33 left 23 left 11 left 8 left 4 left 1 left 1 left 1 left 1 left 1 left 1 left \n",
      "1008 left 338 left 216 left 118 left 56 left 34 left 19 left 12 left 5 left 3 left 2 left 1 left 1 left 1 left 1 left 1 left 1 left \n",
      "1008 left 337 left 226 left 103 left 62 left 39 left 19 left 12 left 5 left 2 left 2 left 2 left 1 left 1 left 1 left \n",
      "1008 left 339 left 210 left 103 left 48 left 32 left 21 left 11 left 7 left 3 left 2 left 2 left 2 left 1 left 1 left \n",
      "1008 left 361 left 211 left 110 left 59 left 29 left 19 left 10 left 4 left 2 left 2 left 2 left 2 left 2 left \n",
      "1008 left 339 left 209 left 102 left 55 left 36 left 19 left 11 left 4 left 2 left 2 left 2 left 1 left 1 left 1 left 1 left \n",
      "1008 left 343 left 209 left 107 left 59 left 38 left 17 left 10 left 3 left 2 left 2 left 2 left 1 left 1 left 1 left 1 left 1 left \n",
      "1008 left 352 left 211 left 112 left 55 left 33 left 22 left 11 left 6 left 3 left 1 left 1 left 1 left 1 left 1 left 1 left \n",
      "1008 left 344 left 211 left 109 left 55 left 36 left 24 left 11 left 7 left 1 left 1 left 1 left 1 left 1 left 1 left 1 left \n",
      "1008 left 342 left 210 left 115 left 60 left 35 left 22 left 11 left 8 left 4 left 3 left 1 left 1 left 1 left 1 left \n",
      "1008 left 326 left 203 left 112 left 56 left 38 left 24 left 18 left 12 left 6 left 2 left 1 left 1 left 1 left \n",
      "1008 left 347 left 199 left 111 left 50 left 36 left 24 left 13 left 9 left 6 left 4 left 2 left 1 left \n",
      "1008 left 344 left 208 left 109 left 58 left 41 left 26 left 14 left 11 left 8 left 5 left 3 left 2 left \n",
      "1008 left 323 left 203 left 109 left 61 left 37 left 21 left 12 left 8 left 8 left 6 left 1 left \n",
      "1008 left 335 left 201 left 97 left 65 left 37 left 24 left 13 left 10 left 8 left 6 left 4 left 1 left \n",
      "1008 left 333 left 199 left 105 left 64 left 40 left 24 left 13 left 9 left 7 left 3 left 2 left 1 left \n",
      "1008 left 319 left 210 left 119 left 69 left 40 left 22 left 16 left 10 left 8 left 2 left 1 left \n",
      "1008 left 333 left 210 left 114 left 65 left 43 left 28 left 18 left 12 left 5 left 4 left 1 left 1 left 1 left \n",
      "1008 left 326 left 213 left 110 left 60 left 42 left 26 left 18 left 10 left 7 left 4 left 3 left 1 left 1 left \n",
      "1008 left 326 left 209 left 113 left 66 left 41 left 29 left 23 left 15 left 7 left 5 left 4 left 2 left 2 left \n",
      "1008 left 321 left 213 left 112 left 65 left 45 left 23 left 15 left 12 left 11 left 7 left 4 left 3 left 2 left \n",
      "1008 left 334 left 197 left 109 left 61 left 39 left 24 left 16 left 11 left 8 left 5 left 5 left 4 left 2 left 2 left \n",
      "1008 left 337 left 210 left 118 left 59 left 42 left 27 left 17 left 9 left 7 left 5 left 5 left 4 left 3 left 1 left \n",
      "1008 left 318 left 199 left 111 left 65 left 40 left 23 left 15 left 11 left 8 left 6 left 5 left 4 left 3 left 1 left 1 left \n",
      "1008 left 321 left 214 left 111 left 60 left 40 left 23 left 14 left 12 left 7 left 6 left 3 left 3 left 3 left 1 left \n",
      "1008 left 319 left 204 left 114 left 68 left 41 left 27 left 12 left 10 left 8 left 7 left 4 left 3 left 2 left \n",
      "1008 left 333 left 206 left 115 left 65 left 36 left 24 left 17 left 7 left 6 left 5 left 4 left 2 left 1 left 1 left \n",
      "1008 left 326 left 206 left 119 left 61 left 40 left 27 left 12 left 10 left 6 left 5 left 3 left 1 left 1 left \n",
      "1008 left 309 left 191 left 97 left 55 left 36 left 26 left 17 left 10 left 7 left 4 left 3 left 1 left \n",
      "1008 left 334 left 203 left 103 left 66 left 40 left 23 left 16 left 9 left 5 left 5 left 2 left 2 left 1 left \n",
      "1008 left 324 left 202 left 99 left 58 left 41 left 24 left 16 left 8 left 6 left 4 left 3 left 1 left \n",
      "1008 left 321 left 203 left 112 left 60 left 43 left 29 left 17 left 10 left 7 left 6 left 3 left 2 left \n",
      "1008 left 311 left 205 left 114 left 57 left 38 left 25 left 16 left 14 left 9 left 4 left 4 left 2 left 1 left \n",
      "1008 left 316 left 198 left 105 left 58 left 36 left 24 left 14 left 9 left 8 left 6 left 4 left 2 left 1 left 1 left \n",
      "1008 left 317 left 196 left 110 left 57 left 37 left 29 left 20 left 11 left 6 left 6 left 4 left 3 left \n",
      "1008 left 329 left 198 left 111 left 61 left 36 left 26 left 13 left 11 left 8 left 7 left 6 left 2 left \n",
      "1008 left 314 left 195 left 108 left 58 left 35 left 27 left 18 left 10 left 8 left 7 left 5 left 1 left \n",
      "1008 left 308 left 182 left 101 left 57 left 40 left 23 left 16 left 11 left 7 left 6 left 4 left 3 left 2 left 2 left \n",
      "1008 left 327 left 191 left 106 left 62 left 38 left 27 left 17 left 11 left 9 left 7 left 4 left 2 left 1 left 1 left \n",
      "1008 left 318 left 188 left 104 left 58 left 38 left 26 left 13 left 10 left 9 left 8 left 3 left 2 left 1 left \n",
      "1008 left 316 left 191 left 101 left 64 left 37 left 27 left 19 left 11 left 9 left 8 left 2 left 2 left 1 left \n",
      "1008 left 322 left 196 left 97 left 58 left 44 left 29 left 20 left 11 left 8 left 6 left 4 left 3 left 1 left \n",
      "1008 left 301 left 188 left 105 left 56 left 43 left 29 left 19 left 12 left 9 left 7 left 5 left 2 left 1 left 1 left \n",
      "1008 left 324 left 197 left 110 left 65 left 43 left 30 left 17 left 12 left 8 left 5 left 5 left 3 left 2 left 1 left 1 left 1 left 1 left 1 left 1 left \n",
      "1008 left 313 left 186 left 110 left 68 left 42 left 26 left 15 left 10 left 7 left 6 left 5 left 3 left 2 left 2 left 2 left 2 left 1 left 1 left 1 left 1 left 1 left 1 left 1 left 1 left 1 left \n",
      "1008 left 316 left 201 left 112 left 63 left 45 left 29 left 15 left 12 left 8 left 7 left 5 left 2 left 2 left 2 left 2 left \n",
      "1008 left 306 left 190 left 120 left 68 left 45 left 29 left 15 left 9 left 8 left 6 left 2 left 1 left 1 left \n",
      "1008 left 315 left 182 left 106 left 64 left 43 left 27 left 18 left 10 left 6 left 5 left 4 left 2 left 2 left 1 left 1 left \n",
      "1008 left 332 left 206 left 113 left 62 left 42 left 29 left 19 left 12 left 9 left 6 left 4 left 2 left 1 left \n"
     ]
    }
   ],
   "source": [
    "raw = []\n",
    "for i in range(len(dest)):\n",
    "    raw.append(p.deepcopy())\n",
    "    p.to_next_stop(dest[i])\n",
    "    print()\n",
    "raw.append(p.deepcopy())"
   ]
  },
  {
   "cell_type": "markdown",
   "metadata": {},
   "source": [
    "Extract and save the data so that we don't have to do the calculation everytime"
   ]
  },
  {
   "cell_type": "code",
   "execution_count": 8,
   "metadata": {
    "execution": {
     "iopub.execute_input": "2023-01-20T16:41:48.977564Z",
     "iopub.status.busy": "2023-01-20T16:41:48.976914Z",
     "iopub.status.idle": "2023-01-20T16:41:50.281149Z",
     "shell.execute_reply": "2023-01-20T16:41:50.277890Z",
     "shell.execute_reply.started": "2023-01-20T16:41:48.977498Z"
    },
    "tags": []
   },
   "outputs": [],
   "source": [
    "lons = np.array([i.lon for i in raw])\n",
    "lats = np.array([i.lat for i in raw])\n",
    "spds = np.array([np.hypot(i.u*i.dx,i.v*i.dy) for i in raw])\n",
    "np.save('LLC4320lons.npy',lons)\n",
    "np.save('LLC4320lats.npy',lats)\n",
    "np.save('LLC4320spds.npy',spds)"
   ]
  },
  {
   "cell_type": "markdown",
   "metadata": {},
   "source": [
    "Now run `plot_LLC4320_particle_trajectories.ipynb` to make the plots."
   ]
  },
  {
   "cell_type": "code",
   "execution_count": null,
   "metadata": {},
   "outputs": [],
   "source": []
  }
 ],
 "metadata": {
  "kernelspec": {
   "display_name": "Oceanography",
   "language": "python",
   "name": "oceanography"
  },
  "language_info": {
   "codemirror_mode": {
    "name": "ipython",
    "version": 3
   },
   "file_extension": ".py",
   "mimetype": "text/x-python",
   "name": "python",
   "nbconvert_exporter": "python",
   "pygments_lexer": "ipython3",
   "version": "3.9.15"
  }
 },
 "nbformat": 4,
 "nbformat_minor": 4
}
