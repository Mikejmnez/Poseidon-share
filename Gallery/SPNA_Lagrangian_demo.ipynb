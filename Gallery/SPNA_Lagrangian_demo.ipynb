{
 "cells": [
  {
   "cell_type": "markdown",
   "metadata": {},
   "source": [
    "# Demonstration of OceInterp Lagrangian particle and interpolation functions\n",
    "\n",
    "<Thomas.Haine@jhu.edu> Jul, Nov '22, Jan '23\n",
    "\n",
    "# Consider the sources of subpolar North Atlantic water in ECCO.\n",
    "Specifically, consider these questions and facts:\n",
    "***\n",
    "\n",
    "#### What are the sources of eastern subpolar North Atlantic salinity anomalies?\n",
    "* 2008 was anomalously saline in the eastern SPNA.\n",
    "* 2016 was anomalously fresh in the eastern SPNA.\n",
    "\n",
    "#### What are the sources of Labrador Sea deep convection region waters?\n",
    "* 2010 has shallow convection in the Labrador Sea\n",
    "* 2016 was deep convection in the Labrador Sea\n",
    "\n",
    "#### What are the sources of Greenland Sea mode waters?\n",
    "\n",
    "*** \n",
    "\n",
    "This notebook shows how to address these questions using the Lagrangian particle functionality of the `OceInterp` package."
   ]
  },
  {
   "cell_type": "markdown",
   "metadata": {},
   "source": [
    "#### Setup"
   ]
  },
  {
   "cell_type": "code",
   "execution_count": 1,
   "metadata": {
    "execution": {
     "iopub.execute_input": "2023-09-14T15:07:47.173618Z",
     "iopub.status.busy": "2023-09-14T15:07:47.172727Z",
     "iopub.status.idle": "2023-09-14T15:08:10.557558Z",
     "shell.execute_reply": "2023-09-14T15:08:10.555298Z",
     "shell.execute_reply.started": "2023-09-14T15:07:47.173552Z"
    },
    "tags": []
   },
   "outputs": [],
   "source": [
    "import numpy as np\n",
    "import matplotlib.pyplot as plt\n",
    "import seaduck as sd\n",
    "import oceanspy as ospy"
   ]
  },
  {
   "cell_type": "markdown",
   "metadata": {},
   "source": [
    "### The ECCO MITgcm run is a low-resolution global state estimate, available on SciServer. The simulation is opened using the OceanSpy package.\n",
    "\n",
    "Choose between the monthly-mean data ('ECCO') or the daily-mean data ('daily_ecco').\n",
    "\n",
    "### See: https://dev-poseidon-ocean.pantheonsite.io/products/datasets/."
   ]
  },
  {
   "cell_type": "code",
   "execution_count": 2,
   "metadata": {
    "execution": {
     "iopub.execute_input": "2023-09-14T15:08:12.965721Z",
     "iopub.status.busy": "2023-09-14T15:08:12.964154Z",
     "iopub.status.idle": "2023-09-14T15:09:02.415292Z",
     "shell.execute_reply": "2023-09-14T15:09:02.412910Z",
     "shell.execute_reply.started": "2023-09-14T15:08:12.965657Z"
    },
    "tags": []
   },
   "outputs": [
    {
     "name": "stdout",
     "output_type": "stream",
     "text": [
      "Opening daily_ecco.\n",
      "ECCO v4r4 3D dataset, ocean simulations on LLC90 grid\n"
     ]
    }
   ],
   "source": [
    "# od = ospy.open_oceandataset.from_catalog('ECCO')\n",
    "od = ospy.open_oceandataset.from_catalog('daily_ecco')"
   ]
  },
  {
   "cell_type": "markdown",
   "metadata": {},
   "source": [
    "## All the settings of the particles are in the following cell\n",
    "To integrate forward, set start_time<end_time."
   ]
  },
  {
   "cell_type": "code",
   "execution_count": 3,
   "metadata": {
    "execution": {
     "iopub.execute_input": "2023-09-14T15:09:02.419639Z",
     "iopub.status.busy": "2023-09-14T15:09:02.418969Z",
     "iopub.status.idle": "2023-09-14T15:09:02.435964Z",
     "shell.execute_reply": "2023-09-14T15:09:02.433728Z",
     "shell.execute_reply.started": "2023-09-14T15:09:02.419579Z"
    },
    "tags": []
   },
   "outputs": [
    {
     "name": "stdout",
     "output_type": "stream",
     "text": [
      "Number of particles = 500 with [5x5x20] particles in [lon,lat,depth] directions.\n"
     ]
    }
   ],
   "source": [
    "# Change the number of particles here\n",
    "# N = int(2*4096)     # Production value\n",
    "N = 512             # Test value\n",
    "NX = int(np.sqrt(N)/4)\n",
    "NY = NX \n",
    "NZ = int(N/(NX*NY))\n",
    "\n",
    "# Change the initial lon, lat, depth locations, initial and final times, and number of output times of the particle trajectories here:\n",
    "\n",
    "# Eastern SPNA, upper ocean. 2016 was a fresh year, 2008 was a saline year:\n",
    "xa = np.linspace(-30.01,-10.02,NX)      # Longitude (degrees)\n",
    "ya = np.linspace( 65, 45.01,NY)      # Latitude (degrees)\n",
    "za = np.linspace( 0,-200.02,NZ)      # Depth (meters)\n",
    "start_time = '2017-01'\n",
    "# end_time = '2001-01'    # Production value\n",
    "end_time = '2016-01'    # Test value\n",
    "# start_time = '2009-01' \n",
    "# end_time = '1992-02'    # Production value\n",
    "# end_time = '2008-01'    # Test value\n",
    "\n",
    "# Labrador Sea deep convection region (roughly). 2016 was a deep convection year, 2010 was a shallow convection year (Yashayaev & Loder, 2016)\n",
    "# xa = np.linspace(-55,-52,NX)      # Longitude (degrees)\n",
    "# ya = np.linspace( 56, 58,NY)      # Latitude (degrees)\n",
    "# za = np.linspace( 0,-1000,NZ)      # Depth (meters)\n",
    "# start_time = '2016-05'\n",
    "# start_time = '2010-05'\n",
    "# end_time = '1992-02'\n",
    "\n",
    "# Greenland Sea deep convection region (roughly)\n",
    "# xa = np.linspace(-14, -5,NX)      # Longitude (degrees)\n",
    "# ya = np.linspace( 74, 75,NY)      # Latitude (degrees)\n",
    "# za = np.linspace( 0,-1000,NZ)      # Depth (meters)\n",
    "\n",
    "# Setup initial particle positions:\n",
    "x,y,z = np.meshgrid(xa,ya,za)\n",
    "x = x.ravel()\n",
    "y = y.ravel()\n",
    "z = z.ravel()\n",
    "print(f\"Number of particles = {len(x)} with [{NX}x{NY}x{NZ}] particles in [lon,lat,depth] directions.\")"
   ]
  },
  {
   "cell_type": "markdown",
   "metadata": {},
   "source": [
    "#### Define the desired output times for the particles."
   ]
  },
  {
   "cell_type": "code",
   "execution_count": 4,
   "metadata": {
    "execution": {
     "iopub.execute_input": "2023-09-14T15:09:02.438725Z",
     "iopub.status.busy": "2023-09-14T15:09:02.438098Z",
     "iopub.status.idle": "2023-09-14T15:09:02.451909Z",
     "shell.execute_reply": "2023-09-14T15:09:02.449817Z",
     "shell.execute_reply.started": "2023-09-14T15:09:02.438667Z"
    },
    "tags": []
   },
   "outputs": [
    {
     "name": "stdout",
     "output_type": "stream",
     "text": [
      "Stepping from: 2017-01 to 2016-01 with 16 steps.\n"
     ]
    }
   ],
   "source": [
    "t000 = np.datetime64('1970-01-01')\n",
    "# Nsteps = 512    # Production value\n",
    "Nsteps = 16      # Test value\n",
    "t_bnds = np.array([np.datetime64(start_time)-t000,np.datetime64(  end_time)-t000])/np.timedelta64(1, 's')\n",
    "t = np.linspace(t_bnds[0],t_bnds[1],Nsteps)\n",
    "print(f\"Stepping from: {start_time} to {end_time} with {Nsteps} steps.\")"
   ]
  },
  {
   "cell_type": "markdown",
   "metadata": {},
   "source": [
    "#### Integrate particle positions\n",
    "By default, particles positions are returned at the union of times `t` and the end of the model timestep. To exclude the end of the model timestep, set option `return_in_between = False`"
   ]
  },
  {
   "cell_type": "code",
   "execution_count": null,
   "metadata": {
    "execution": {
     "iopub.execute_input": "2023-09-14T15:09:02.457786Z",
     "iopub.status.busy": "2023-09-14T15:09:02.457132Z"
    },
    "tags": []
   },
   "outputs": [
    {
     "name": "stderr",
     "output_type": "stream",
     "text": [
      "WARNING:root:Setting the surface velocity to zero. Dataset modified. \n"
     ]
    }
   ],
   "source": [
    "stops,[S,lats,lons,heights] = sd.OceInterp(od._ds,\n",
    "                                 ['SALT','__particle.lat','__particle.lon','__particle.dep'],\n",
    "                                 x,y,z,t,\n",
    "                                 lagrangian = True,\n",
    "                                 return_in_between = False\n",
    "                                    )"
   ]
  },
  {
   "cell_type": "markdown",
   "metadata": {
    "execution": {
     "iopub.execute_input": "2022-11-23T18:52:41.894754Z",
     "iopub.status.busy": "2022-11-23T18:52:41.894116Z",
     "iopub.status.idle": "2022-11-23T18:52:41.912162Z",
     "shell.execute_reply": "2022-11-23T18:52:41.909144Z",
     "shell.execute_reply.started": "2022-11-23T18:52:41.894695Z"
    },
    "tags": []
   },
   "source": [
    "### Display initial positions"
   ]
  },
  {
   "cell_type": "code",
   "execution_count": null,
   "metadata": {
    "tags": []
   },
   "outputs": [],
   "source": [
    "import cartopy.crs as ccrs\n",
    "projection=ccrs.NearsidePerspective(central_longitude=-35.0,central_latitude=65.0,satellite_height=9000000,false_easting=0, false_northing=0, globe=None)\n",
    "ax = plt.axes(projection = projection)\n",
    "ax.plot(x,y,'b.',transform = ccrs.PlateCarree())\n",
    "ax.coastlines()\n",
    "plt.show()"
   ]
  },
  {
   "cell_type": "markdown",
   "metadata": {},
   "source": [
    "### Diagnose which region particles end in:"
   ]
  },
  {
   "cell_type": "code",
   "execution_count": null,
   "metadata": {
    "tags": []
   },
   "outputs": [],
   "source": [
    "from shapely.geometry import Polygon, Point, MultiPolygon\n",
    "import shapefile"
   ]
  },
  {
   "cell_type": "markdown",
   "metadata": {},
   "source": [
    "Define polygons."
   ]
  },
  {
   "cell_type": "code",
   "execution_count": null,
   "metadata": {
    "tags": []
   },
   "outputs": [],
   "source": [
    "poly = []\n",
    "\n",
    "AO = [\n",
    "    (27.5,70.5),\n",
    "    (20.0,78.8),\n",
    "    (16.9,79.8),\n",
    "    (13.5,81.45),\n",
    "    (-38,82),\n",
    "    (-75.2,83.1),\n",
    "    (-118.7,77.3),\n",
    "    (-139,69.85),\n",
    "    (-167,65),\n",
    "    (-176,66),\n",
    "    (-180,66),\n",
    "    (-180,90),\n",
    "    (180,90),\n",
    "    (180,66),\n",
    "    (114,62.25),\n",
    "    (57,56),\n",
    "]\n",
    "AO = Polygon(AO)\n",
    "poly.append(AO)\n",
    "\n",
    "CAA = [\n",
    "    (-42.75,69.2),\n",
    "    (-70.0,66.0),\n",
    "    (-62,57.75),\n",
    "    (-79,50),\n",
    "    (-109,52),\n",
    "    (-139,69.85),\n",
    "    (-118.7,77.3),\n",
    "    (-75.2,83.1),\n",
    "    (-38,82),\n",
    "]\n",
    "CAA = Polygon(CAA)\n",
    "poly.append(CAA)\n",
    "\n",
    "NordicSeas = [\n",
    "    (-38,82),\n",
    "    (-42.75,69.2),\n",
    "    (-18.5,65.0),\n",
    "    (16.2,58.6),\n",
    "    (27.5,70.5),\n",
    "    (20.0,78.8),\n",
    "    (16.9,79.8),\n",
    "    (13.5,81.45),\n",
    "]\n",
    "NordicSeas = Polygon(NordicSeas)\n",
    "poly.append(NordicSeas)\n",
    "\n",
    "SPNA = [\n",
    "    (-54.0,47.0),\n",
    "    (-5.0,50.0),\n",
    "    (0.0,46.0),\n",
    "    (16.2,58.6),\n",
    "    (-18.5,65.0),\n",
    "    (-42.75,69.2),\n",
    "    (-70.0,66.0),\n",
    "]\n",
    "SPNA = Polygon(SPNA)\n",
    "poly.append(SPNA)\n",
    "\n",
    "STNA = [\n",
    "     (10.0,0.0),\n",
    "     (-49.0,0.0),\n",
    "    (-82.5,8.5),\n",
    "    (-105.0,29.0),\n",
    "    (-54.0,47.0),\n",
    "    (-5.0,50.0),\n",
    "    (0.0,46.0),\n",
    "    (-5.5,35.0),\n",
    "]\n",
    "STNA = Polygon(STNA)\n",
    "poly.append(STNA)\n",
    "\n",
    "# Define region data\n",
    "domain_dic = {\n",
    "    0:'Arctic Ocean',\n",
    "    1:'Canadian Arctic Archipelago',\n",
    "    2:'Nordic Seas',\n",
    "    3:'Subpolar North Atlantic',\n",
    "    4:'Subtropical and tropical North Atlantic',\n",
    "}\n",
    "region_ids = [0,1,2,3,4]\n",
    "color_ids = ['b','c','y','g','r',]"
   ]
  },
  {
   "cell_type": "markdown",
   "metadata": {},
   "source": [
    "#### Plot regions"
   ]
  },
  {
   "cell_type": "code",
   "execution_count": null,
   "metadata": {
    "tags": []
   },
   "outputs": [],
   "source": [
    "fig = plt.figure(figsize=(6, 6))\n",
    "ax = plt.axes(projection = projection)\n",
    "for j in region_ids:\n",
    "    ax.plot(*poly[j].exterior.xy,transform = ccrs.PlateCarree(),color=color_ids[j])\n",
    "ax.coastlines()\n",
    "ax.set_global()\n",
    "plt.show()"
   ]
  },
  {
   "cell_type": "markdown",
   "metadata": {},
   "source": [
    "#### Compute numbers of particles that are contained in different regions at the end time."
   ]
  },
  {
   "cell_type": "code",
   "execution_count": null,
   "metadata": {
    "tags": []
   },
   "outputs": [],
   "source": [
    "snapx = lons[-1]# make it easier for ploting\n",
    "snapy = lats[-1]\n",
    "in_bound=[]\n",
    "total_particles = 0\n",
    "for j in range(len(poly)):\n",
    "    in_bound.append([])\n",
    "    for i in range(len(snapx)):\n",
    "        point = Point(snapx[i],snapy[i])\n",
    "        if poly[j].contains(point):\n",
    "            in_bound[j].append(i)\n",
    "            total_particles = total_particles + 1\n",
    "    print(f\" Number of particles in domain: {j}, {domain_dic[j]:40} = {len(in_bound[j]):8d}, fraction = {len(in_bound[j])/len(lons[-1]):.4f}\")\n",
    "print(f\" Total number of particles in all domains                                   = {total_particles:8d}, fraction = {total_particles/len(lons[-1]):.4f}\")"
   ]
  },
  {
   "cell_type": "markdown",
   "metadata": {},
   "source": [
    "### Make animation"
   ]
  },
  {
   "cell_type": "code",
   "execution_count": null,
   "metadata": {
    "tags": []
   },
   "outputs": [],
   "source": [
    "import cartopy.feature as cf\n",
    "from matplotlib.animation import FuncAnimation\n",
    "plt.rcParams['animation.embed_limit'] = 128\n",
    "\n",
    "fig = plt.figure(figsize=(12, 12))\n",
    "ax = plt.axes(projection=projection)\n",
    "markerSize = 1.0\n",
    "dots0, = ax.plot(lons[0][in_bound[0]],lats[0][in_bound[0]],'+',color = color_ids[0],ms = markerSize,transform = ccrs.PlateCarree())\n",
    "dots1, = ax.plot(lons[0][in_bound[1]],lats[0][in_bound[1]],'+',color = color_ids[1],ms = markerSize,transform = ccrs.PlateCarree())\n",
    "dots2, = ax.plot(lons[0][in_bound[2]],lats[0][in_bound[2]],'+',color = color_ids[2],ms = markerSize,transform = ccrs.PlateCarree())\n",
    "dots3, = ax.plot(lons[0][in_bound[3]],lats[0][in_bound[3]],'+',color = color_ids[3],ms = markerSize,transform = ccrs.PlateCarree())\n",
    "dots4, = ax.plot(lons[0][in_bound[4]],lats[0][in_bound[4]],'+',color = color_ids[4],ms = markerSize,transform = ccrs.PlateCarree())\n",
    "\n",
    "ax.coastlines()\n",
    "ax.set_xlim([-60,60])\n",
    "ax.set_ylim([-50,90])\n",
    "ax.set_global()\n",
    "plt.show()\n",
    "\n",
    "def animate(frm):\n",
    "    dots0.set_data((lons[frm][in_bound[0]],lats[frm][in_bound[0]]))\n",
    "    dots1.set_data((lons[frm][in_bound[1]],lats[frm][in_bound[1]]))\n",
    "    dots2.set_data((lons[frm][in_bound[2]],lats[frm][in_bound[2]]))\n",
    "    dots3.set_data((lons[frm][in_bound[3]],lats[frm][in_bound[3]]))\n",
    "    dots4.set_data((lons[frm][in_bound[4]],lats[frm][in_bound[4]]))\n",
    "    ax.set_title(np.timedelta64(round(t[frm]),'s')+t000)\n",
    "    return dots0, dots1, dots2, dots3, dots4\n",
    "\n",
    "anim = FuncAnimation(fig,animate,frames = len(lons),interval = 85)"
   ]
  },
  {
   "cell_type": "code",
   "execution_count": null,
   "metadata": {
    "tags": []
   },
   "outputs": [],
   "source": [
    "from IPython import display\n",
    "video = anim.to_html5_video()\n",
    "html = display.HTML(video)\n",
    "display.display(html)\n",
    "plt.close()      "
   ]
  },
  {
   "cell_type": "markdown",
   "metadata": {},
   "source": [
    "### Plot figure showing start and end positions of particles"
   ]
  },
  {
   "cell_type": "code",
   "execution_count": null,
   "metadata": {
    "tags": []
   },
   "outputs": [],
   "source": [
    "fig = plt.figure(figsize=(12, 12))\n",
    "ax = plt.axes(projection = projection)\n",
    "dots0, = ax.plot(lons[0][in_bound[0]],lats[0][in_bound[0]],'+',color = color_ids[0],ms = markerSize,transform = ccrs.PlateCarree())\n",
    "dots1, = ax.plot(lons[0][in_bound[1]],lats[0][in_bound[1]],'+',color = color_ids[1],ms = markerSize,transform = ccrs.PlateCarree())\n",
    "dots2, = ax.plot(lons[0][in_bound[2]],lats[0][in_bound[2]],'+',color = color_ids[2],ms = markerSize,transform = ccrs.PlateCarree())\n",
    "dots3, = ax.plot(lons[0][in_bound[3]],lats[0][in_bound[3]],'+',color = color_ids[3],ms = markerSize,transform = ccrs.PlateCarree())\n",
    "dots4, = ax.plot(lons[0][in_bound[4]],lats[0][in_bound[4]],'+',color = color_ids[4],ms = markerSize,transform = ccrs.PlateCarree())\n",
    "\n",
    "dots0, = ax.plot(lons[-1][in_bound[0]],lats[-1][in_bound[0]],'+',color = color_ids[0],ms = markerSize,transform = ccrs.PlateCarree())\n",
    "dots1, = ax.plot(lons[-1][in_bound[1]],lats[-1][in_bound[1]],'+',color = color_ids[1],ms = markerSize,transform = ccrs.PlateCarree())\n",
    "dots2, = ax.plot(lons[-1][in_bound[2]],lats[-1][in_bound[2]],'+',color = color_ids[2],ms = markerSize,transform = ccrs.PlateCarree())\n",
    "dots3, = ax.plot(lons[-1][in_bound[3]],lats[-1][in_bound[3]],'+',color = color_ids[3],ms = markerSize,transform = ccrs.PlateCarree())\n",
    "dots4, = ax.plot(lons[-1][in_bound[4]],lats[-1][in_bound[4]],'+',color = color_ids[4],ms = markerSize,transform = ccrs.PlateCarree())\n",
    "\n",
    "ax.coastlines()\n",
    "ax.set_global()\n",
    "plt.show()"
   ]
  },
  {
   "cell_type": "code",
   "execution_count": null,
   "metadata": {},
   "outputs": [],
   "source": []
  }
 ],
 "metadata": {
  "kernelspec": {
   "display_name": "Oceanography",
   "language": "python",
   "name": "oceanography"
  },
  "language_info": {
   "codemirror_mode": {
    "name": "ipython",
    "version": 3
   },
   "file_extension": ".py",
   "mimetype": "text/x-python",
   "name": "python",
   "nbconvert_exporter": "python",
   "pygments_lexer": "ipython3",
   "version": "3.10.12"
  }
 },
 "nbformat": 4,
 "nbformat_minor": 4
}
